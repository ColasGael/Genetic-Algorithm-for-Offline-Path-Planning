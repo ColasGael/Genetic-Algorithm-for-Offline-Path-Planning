{
 "cells": [
  {
   "cell_type": "code",
   "execution_count": 1,
   "metadata": {
    "collapsed": true
   },
   "outputs": [],
   "source": [
    "import numpy as np\n",
    "import matplotlib as mpl\n",
    "import matplotlib.pyplot as plt\n",
    "%matplotlib inline"
   ]
  },
  {
   "cell_type": "markdown",
   "metadata": {},
   "source": [
    "### Path class : representation of an individual"
   ]
  },
  {
   "cell_type": "code",
   "execution_count": 2,
   "metadata": {
    "collapsed": true
   },
   "outputs": [],
   "source": [
    "class Path:\n",
    "    '''class to represents a path as a binary string \n",
    "    The path goes from the starting point (0,0) to the end point (n-1,n-1)\n",
    "    \n",
    "    Attributes:\n",
    "        'n' (int) : size of the grid\n",
    "        'bina' (np.array, size= 1 + (n-1)*( 2 + 1 + 1 + int(np.log(n)/np.log(2)) )) : binary representation of the path\n",
    "        'occ' (np.array, shape=(n,n)) : occupancy grid ; occ[i,j] = 0 if free of obstacle, 1 otherwise\n",
    "\n",
    "        'n_cell' (int) : number of cells crossed in the path       \n",
    "        'points' ( (2D np.array) list ) : list of points on the path\n",
    "        'types' (int list, len = n_cell) : types[i] = 0 if points[i] is an intermediary point of an action, 1 otherwise\n",
    "        \n",
    "        'pb' (np.array, size=3) : tell what are the non-valid problems of the path\n",
    "        'out' (np.array, size=n) : out[i] = 1 if path out-of-bounds at step i, 0 otherwise\n",
    "        'nCol' (int) : number of collisions with obstacles on the path\n",
    "    \n",
    "    Remarks:\n",
    "        - pb[0] = 0 if path goes out of bound ;  \n",
    "        - pb[1] = 0 if path doesn't end at the end point ; \n",
    "        - pb[2] = 0 if path collides with obstacles\n",
    "    '''\n",
    "    \n",
    "    def __init__ (self, n, occ=np.zeros(0)):\n",
    "        '''create a random Path instance for a grid of size n\n",
    "        \n",
    "        Args: \n",
    "            'n' (int) : size of the grid\n",
    "            'occ' (np.array, shape=(n,n)) : occupancy grid ; occ[i,j] = 0 if free of obstacle, 1 otherwise\n",
    "        '''\n",
    "        self.n = n\n",
    "        \n",
    "        # useful to visualize paths without occupancy grid\n",
    "        if occ.size == 0:\n",
    "            self.occ = np.zeros((self.n, self.n))\n",
    "        else:\n",
    "            self.occ = occ\n",
    "        \n",
    "        l_code = 1 + int(np.log(n)/np.log(2))       \n",
    "        self.setBina (np.random.randint(2, size = 1 + (n-1)*(3 + l_code) ) )\n",
    "\n",
    "    def setBina (self, bina):\n",
    "        self.bina = bina.copy()\n",
    "        # check that the path is valid\n",
    "        self.isValid()\n",
    "    \n",
    "    def monotone (self, axis):\n",
    "        '''convert the Path into a straight line axis-monotone Path\n",
    "        \n",
    "        Args:\n",
    "            'axis' (int, possible={0,1}) : axis of monotony\n",
    "        '''\n",
    "        n = self.n\n",
    "        \n",
    "        l_code = 1 + int(np.log(n)/np.log(2))\n",
    "        bina = np.zeros(1 + (n-1)*(3 + l_code), dtype = int)\n",
    "        \n",
    "        bina[0] = axis\n",
    "        \n",
    "        for i in range(0, n-2):\n",
    "            # go one cell horizontaly\n",
    "            bina[1 + i*(3 + l_code):3 + i*(3 + l_code)] = [1,0]\n",
    "        \n",
    "        # go all the way up vertically\n",
    "        bina[1 + 2 + (n-2)*(3 + l_code)] = 1\n",
    "        m_pad = 1+int(np.log(n)/np.log(2)) - len(bin(n-1)[2:])\n",
    "        bina[1 + 3 + (n-2)*(3 + l_code):] = np.pad(np.array([int(x) for x in bin(n-1)[2:]]), (m_pad,0), 'constant', constant_values=(0))\n",
    "        \n",
    "        self.setBina(bina)\n",
    "    \n",
    "    def inBound (self, point):\n",
    "        '''check if a point from the path is inside the boundaries\n",
    "        \n",
    "        Args:\n",
    "            'point' (int np.array, size = 2) : point from the path\n",
    "            \n",
    "        Returns:\n",
    "            'inBound' (bool) : tells if the point from the path is inside the boundaries\n",
    "        '''\n",
    "        \n",
    "        inBound = (point <= np.array([n-1, n-1])).all() and (point >= np.array([0, 0])).all()\n",
    "        \n",
    "        return inBound\n",
    "    \n",
    "    def buildPath (self):\n",
    "        '''build the 'real world' path from the binary representation\n",
    "        \n",
    "        Returns:\n",
    "            'types' (int list, len = n_cell) : types[i] = 0 if points[i] is an intermediary point of an action, 1 otherwise\n",
    "        '''      \n",
    "        n = self.n\n",
    "        \n",
    "        l_code = 1 + int(np.log(n)/np.log(2))\n",
    "        \n",
    "        # store the points on the path\n",
    "        x0 = np.array([0,0])\n",
    "        points = [x0]\n",
    "        x_next = x0\n",
    "\n",
    "        types = [1]\n",
    "        \n",
    "        # axis of monotony\n",
    "        axis = self.bina[0]\n",
    "        \n",
    "        # each monotone path is composed of (n-1) actions\n",
    "        for i in range(0, n -1):\n",
    "            action = self.bina[1 + i*(3 + l_code): 1 + (i+1)*(3 + l_code)]\n",
    "            # movement \n",
    "            move = action[0:2]\n",
    "            \n",
    "            # compute the next point\n",
    "            if (move == np.array([0,0])).all(): # vertical\n",
    "                x_next = x_next + np.array([1, 0])\n",
    "                points.append(x_next)\n",
    "                types.append(0)\n",
    "                \n",
    "                # direction\n",
    "                sign = action[2]*2 -1\n",
    "                # compute the nb of cells crossed\n",
    "                n_add = action[3:].dot( 2**np.arange(action.size-3) [::-1])\n",
    "                \n",
    "                # compute the intermediary points\n",
    "                for k in range(1, int(n_add)):\n",
    "                    x_temp = x_next + k*sign*np.array([0, 1])  \n",
    "                    points.append(x_temp)\n",
    "                    types.append(0)\n",
    "                # compute the next point\n",
    "                x_next = x_next + np.array([0, sign*n_add])               \n",
    "                points.append(x_next)\n",
    "                                \n",
    "            elif (move == np.array([0,1])).all(): # diagonal up\n",
    "                x_next = x_next + np.array([1, 1])\n",
    "                points.append(x_next)\n",
    "            elif (move == np.array([1,0])).all(): # horizontal            \n",
    "                x_next = x_next + np.array([1, 0])\n",
    "                points.append(x_next)\n",
    "            else: # diagonal down\n",
    "                x_next = x_next + np.array([1, -1])\n",
    "                points.append(x_next)\n",
    "            \n",
    "            types.append(1)\n",
    "\n",
    "        self.points = np.array(points)\n",
    "        self.n_cell = len(points)\n",
    "        # for y-monotone : reverse x and y axis\n",
    "        if axis:\n",
    "            self.points = np.fliplr(self.points)\n",
    "        \n",
    "        self.types = types\n",
    "        return types\n",
    "    \n",
    "    def isValid (self):\n",
    "        '''tell if a Path is valid for a given grid by computing the points on the path\n",
    "        \n",
    "        Returns:\n",
    "            'valid' (bool) : tell is the path is valid\n",
    "        \n",
    "        Remarks:\n",
    "            - compute the points that are on the path from the binary np.array\n",
    "        '''                \n",
    "        n = self.n\n",
    "        \n",
    "        l_code = 1 + int(np.log(n)/np.log(2))\n",
    "        \n",
    "        types = self.buildPath()\n",
    "        \n",
    "        # store the types of problems\n",
    "        self.pb = np.ones(3)\n",
    "        self.out = np.zeros(n)\n",
    "        self.nCol = 0\n",
    "        \n",
    "        i = 0\n",
    "        # check that the path is collision free\n",
    "        x_prev = np.array([0,0])\n",
    "        for (j, x_next) in enumerate(self.points):\n",
    "            if j == 0:\n",
    "                continue\n",
    "                \n",
    "            i += types[j]  \n",
    "            # check if x_next is within the boundaries\n",
    "            test = self.inBound(x_next)\n",
    "\n",
    "            if not test:\n",
    "                self.out[i] = max(self.out[i], types[j])\n",
    "                continue            \n",
    "            \n",
    "            # check if x_next is in an obstacle\n",
    "            self.nCol += self.occ[x_next[1], x_next[0]]\n",
    "        \n",
    "        # check that the path stays into the boundaries\n",
    "        self.pb[0] = (self.out == np.zeros((n,n))).all()\n",
    "        \n",
    "        # check that the path ends at the end point\n",
    "        self.pb[1] = (self.points[-1] == np.array([n-1, n-1])).all()\n",
    "        \n",
    "        self.pb[2] = (self.nCol == 0)\n",
    "        \n",
    "        valid = self.pb[0] and self.pb[1] and self.pb[2]\n",
    "        \n",
    "        return valid\n",
    "    \n",
    "    def plot (self, color='blue'):\n",
    "        '''plot the path on the n*n occupancy grid\n",
    "        \n",
    "        Args:\n",
    "            'color' (String, default='blue') : color of the path plot\n",
    "        '''\n",
    "        \n",
    "        # make a color map of fixed colors\n",
    "        cmap = mpl.colors.ListedColormap(['white','black'])\n",
    "        bounds=[0,0.5,1]\n",
    "        norm = mpl.colors.BoundaryNorm(bounds, cmap.N)\n",
    "\n",
    "        # tell imshow about color map so that only set colors are used\n",
    "        img = plt.imshow(self.occ, interpolation='nearest', cmap = cmap,norm=norm)\n",
    "\n",
    "        # make a color bar\n",
    "        plt.colorbar(img,cmap=cmap, norm=norm,boundaries=bounds)\n",
    "\n",
    "        # plot the path\n",
    "        plt.plot(self.points[:,0], self.points[:,1], color=color)\n",
    "        "
   ]
  },
  {
   "cell_type": "code",
   "execution_count": 3,
   "metadata": {
    "collapsed": true
   },
   "outputs": [],
   "source": [
    "def plot_occ (occ):\n",
    "    '''plot the n*n occupancy grid\n",
    "    '''\n",
    "\n",
    "    # make a color map of fixed colors\n",
    "    cmap = mpl.colors.ListedColormap(['white','black'])\n",
    "    bounds=[0,0.5,1]\n",
    "    norm = mpl.colors.BoundaryNorm(bounds, cmap.N)\n",
    "\n",
    "    # tell imshow about color map so that only set colors are used\n",
    "    img = plt.imshow(occ, interpolation='nearest', cmap = cmap,norm=norm)\n",
    "\n",
    "    # make a color bar\n",
    "    plt.colorbar(img,cmap=cmap, norm=norm,boundaries=bounds)\n"
   ]
  },
  {
   "cell_type": "markdown",
   "metadata": {},
   "source": [
    "### Random Map"
   ]
  },
  {
   "cell_type": "code",
   "execution_count": 6,
   "metadata": {
    "collapsed": true
   },
   "outputs": [],
   "source": [
    "# Random map\n",
    "n = 24\n",
    "occ = np.array([[False, False, False, False,  True, False, False, False, False,\n",
    "        False, False, False,  True, False,  True, False, False,  True,\n",
    "        False, False, False,  True,  True, False],\n",
    "       [False, False, False, False, False, False,  True,  True, False,\n",
    "         True, False, False,  True,  True,  True, False, False, False,\n",
    "        False,  True, False, False, False, False],\n",
    "       [True, False, False,  True, False, False,  True, False,  True,\n",
    "        False, False,  True, False, False, False, False, False, False,\n",
    "        False, False, False,  True, False, False],\n",
    "       [False, False,  True,  True, False, False,  True, False, False,\n",
    "        False,  True, False, False,  True,  True, False, False, False,\n",
    "        False,  True, False, False,  True, False],\n",
    "       [False,  True, False, False, False, False, False,  True, False,\n",
    "        False, False, False, False,  True, False, False,  True,  True,\n",
    "        False, False, False, False, False, False],\n",
    "       [True,  True, False, False, False,  True, False, False, False,\n",
    "         True,  True, False, False, False, False, False,  True,  True,\n",
    "        False, False, False, False, False, False],\n",
    "       [False, False, False, False,  True, False, False, False, False,\n",
    "        False,  True, False, False, False, False, False, False, False,\n",
    "        False,  True, False, False,  True,  True],\n",
    "       [False, False, False, False,  True, False, False,  True,  True,\n",
    "        False,  True,  True, False, False, False, False, False, False,\n",
    "        False, False,  True, False,  True, False],\n",
    "       [False,  True, False,  True, False,  True,  True, False, False,\n",
    "        False, False, False,  True, False, False, False, False,  True,\n",
    "         True, False,  True,  True, False, False],\n",
    "       [False, False, False, False, False, False, False,  True, False,\n",
    "        False, False, False, False, False, False,  True,  True,  True,\n",
    "        False, False,  True, False, False,  True],\n",
    "       [True, False, False, False,  True, False, False, False, False,\n",
    "        False, False, False, False, False, False,  True,  True, False,\n",
    "        False,  True,  True,  True, False, False],\n",
    "       [False,  True, False,  True,  True, False, False, False, True,\n",
    "         True, False, True,  True,  True, False, False, False, False,\n",
    "        False,  True, False, False,  True,  True],\n",
    "       [False, False,  True, False, False,  True, False,  True,  True,\n",
    "        False, False,  True, False,  True, False, False, False, False,       \n",
    "        True, True, False, False,  True, False],\n",
    "       [False,  True, False, False, False, False, False, False, False,\n",
    "        False, False,  True, False,  True, False, False,  True, False,\n",
    "        False, True, False, False, False,  True],\n",
    "       [False,  True, False, False, False,  True, False, True,  True,\n",
    "         True,  True, True, False, False, False,  True, False, False,\n",
    "         True,  True, False, False, False, False],\n",
    "       [True, False, False,  True, False, False, False,  True, False,\n",
    "        False, False, False, False, False, False, False, False, True,\n",
    "         True, False, False, False, False, False],\n",
    "       [False, False, False, False, False,  True,  True, True, False,\n",
    "        False, False,  True, False, False,  True, False,  True,  True,\n",
    "        False, False, False, False,  True, False],\n",
    "       [True, False,  True,  True, False, False, False,  True, False,\n",
    "         True, False,  True, False, False, False,  True,  True, False,\n",
    "         True,  True, False,  True, False, False],\n",
    "       [False,  True, False, False, False,  True, False, False, False,\n",
    "        False, False,  True,  True, False,  True,  True, False,  True,\n",
    "        False,  True, False, False, False, False],\n",
    "       [False,  True, False, False,  True, False, False, False, False,\n",
    "         True, False,  True,  True,  True, False, False, False,  True,\n",
    "        False,  True,  True, False, False,  True],\n",
    "       [False, False,  True, False,  True, False, False, False,  True,\n",
    "        False, False, False,  True, False, False, False, False, False,\n",
    "         True, False,  True, False, False, False],\n",
    "       [False,  True, False, False, False,  True,  True, False, False,\n",
    "        False, False, False, False, False, False, False, False,  True,\n",
    "        False, False, False,  True, False, False],\n",
    "       [ True, False, False,  True, False,  True,  True,  True,  True,\n",
    "        False,  True, False, False,  True, False, False, False,  True,\n",
    "         False, False, False, False, False,  True],\n",
    "       [False,  True, False,  True, False, False, False, False, False,\n",
    "        False, False, False, False,  True, False, False, False, False,\n",
    "        False,  True,  False, False, False, False]], dtype=bool)"
   ]
  },
  {
   "cell_type": "code",
   "execution_count": 7,
   "metadata": {},
   "outputs": [],
   "source": [
    "bina = np.array([1, 0, 1, 1, 1, 0, 0, 0, 0, 1, 0, 1, 1, 1, 1, 1, 1, 1, 0, 1, 0, 0, 0,\n",
    "       0, 1, 0, 1, 1, 0, 0, 0, 1, 0, 0, 0, 1, 0, 0, 0, 1, 0, 0, 1, 1, 0, 1,\n",
    "       1, 0, 0, 0, 0, 1, 0, 0, 0, 0, 1, 0, 1, 1, 0, 1, 0, 1, 1, 0, 1, 1, 0,\n",
    "       0, 1, 0, 1, 0, 0, 1, 0, 0, 1, 0, 1, 0, 1, 1, 1, 0, 1, 0, 0, 1, 0, 1,\n",
    "       0, 1, 0, 1, 0, 0, 1, 1, 0, 0, 1, 0, 1, 1, 1, 1, 1, 0, 0, 0, 0, 1, 0,\n",
    "       0, 0, 0, 0, 0, 0, 0, 1, 0, 0, 0, 0, 1, 0, 1, 1, 1, 0, 1, 0, 0, 0, 1,\n",
    "       1, 1, 0, 1, 0, 0, 1, 0, 1, 1, 0, 1, 0, 1, 0, 0, 0, 1, 0, 0, 0, 1, 1,\n",
    "       0, 1, 1, 0, 0, 1, 1, 0, 0, 0, 1, 0, 0, 1, 0, 0, 0, 1, 1, 1, 0, 1, 0,\n",
    "       1])\n",
    "best_random = Path(n, occ)\n",
    "best_random.setBina(bina)"
   ]
  },
  {
   "cell_type": "code",
   "execution_count": 22,
   "metadata": {
    "collapsed": true
   },
   "outputs": [],
   "source": [
    "bina = np.array([1, 0, 0, 1, 0, 0, 0, 1, 1, 0, 1, 1, 0, 0, 1, 0, 1, 0, 1, 1, 0, 1, 1,\n",
    "       1, 1, 0, 1, 0, 1, 0, 0, 0, 1, 0, 1, 1, 0, 0, 0, 1, 0, 0, 1, 1, 1, 0,\n",
    "       0, 0, 1, 0, 1, 1, 0, 0, 0, 0, 1, 0, 1, 1, 0, 0, 0, 1, 0, 0, 1, 1, 1,\n",
    "       0, 1, 0, 0, 0, 0, 1, 0, 0, 0, 1, 0, 0, 1, 1, 0, 0, 1, 0, 0, 1, 0, 1,\n",
    "       0, 0, 0, 0, 0, 1, 0, 1, 0, 0, 0, 0, 1, 1, 1, 1, 0, 0, 0, 1, 1, 0, 1,\n",
    "       0, 0, 0, 0, 1, 1, 0, 1, 1, 0, 0, 0, 1, 1, 1, 1, 1, 0, 0, 0, 1, 1, 1,\n",
    "       1, 1, 0, 0, 1, 0, 0, 0, 1, 1, 0, 0, 0, 1, 1, 0, 0, 1, 0, 0, 0, 1, 1,\n",
    "       0, 1, 1, 0, 0, 1, 0, 0, 0, 0, 1, 0, 0, 1, 0, 0, 0, 1, 1, 0, 0, 0, 1,\n",
    "       0])\n",
    "best_ga = Path(n, occ)\n",
    "best_ga.setBina(bina)"
   ]
  },
  {
   "cell_type": "code",
   "execution_count": 9,
   "metadata": {
    "collapsed": true
   },
   "outputs": [],
   "source": [
    "bina = np.array([1, \n",
    "       0, 0, 1, 0, 0, 0, 1, 1, \n",
    "       0, 1, 1, 0, 0, 1, 0, 0, \n",
    "       0, 1, 1, 0, 0, 0, 1, 0, \n",
    "       0, 1, 1, 1, 0, 1, 0, 0, \n",
    "       0, 1, 1, 0, 0, 0, 0, 1, \n",
    "       0, 1, 1, 0, 1, 0, 0, 1, \n",
    "       0, 1, 1, 0, 1, 0, 0, 0, \n",
    "       0, 1, 1, 0, 1, 0, 0, 0, \n",
    "       0, 0, 1, 0, 0, 0, 1, 0, \n",
    "       0, 1, 1, 0, 0, 1, 0, 0, \n",
    "       0, 1, 0, 1, 0, 1, 0, 1, \n",
    "       1, 0, 0, 0, 0, 1, 0, 1, \n",
    "       1, 0, 0, 0, 0, 1, 0, 0, \n",
    "       1, 0, 1, 1, 1, 0, 0, 0, \n",
    "       1, 1, 1, 0, 0, 0, 1, 0, \n",
    "       1, 0, 1, 0, 0, 0, 1, 0, \n",
    "       1, 0, 1, 0, 1, 0, 1, 0, \n",
    "       1, 0, 1, 1, 1, 1, 0, 0, \n",
    "       0, 1, 0, 1, 0, 1, 1, 1, \n",
    "       0, 0, 1, 0, 0, 0, 1, 1,\n",
    "       0, 1, 1, 0, 0, 0, 1, 1, \n",
    "       0, 0, 1, 0, 0, 1, 0, 0, \n",
    "       0, 1, 1, 0, 0, 0, 1, 0])\n",
    "best_astar = Path(n, occ)\n",
    "best_astar.setBina(bina)"
   ]
  },
  {
   "cell_type": "code",
   "execution_count": 23,
   "metadata": {},
   "outputs": [
    {
     "name": "stdout",
     "output_type": "stream",
     "text": [
      "Random best 39 GA best 36 A* best 36\n"
     ]
    },
    {
     "data": {
      "image/png": "[encoded data removed]",
      "text/plain": [
       "<matplotlib.figure.Figure at 0x20b2ea3c978>"
      ]
     },
     "metadata": {},
     "output_type": "display_data"
    }
   ],
   "source": [
    "best_random.plot('green')\n",
    "best_astar.plot('red')\n",
    "best_ga.plot('blue')\n",
    "\n",
    "print('Random best', best_random.n_cell, 'GA best', best_ga.n_cell, 'A* best', best_astar.n_cell)\n"
   ]
  },
  {
   "cell_type": "markdown",
   "metadata": {},
   "source": [
    "### Narrow valley"
   ]
  },
  {
   "cell_type": "code",
   "execution_count": 130,
   "metadata": {
    "collapsed": true
   },
   "outputs": [],
   "source": [
    "occ =np.array([[0, 0, 0, 1, 0, 0, 0, 0, 0, 0, 0, 0, 1, 0, 0, 0, 0, 0, 0, 0, 0, 0, 0, 0],\n",
    "               [0, 0, 0, 1, 0, 0, 0, 0, 0, 0, 0, 0, 1, 0, 0, 0, 0, 0, 0, 0, 0, 0, 0, 0],\n",
    "               [0, 0, 0, 1, 0, 0, 0, 0, 0, 0, 0, 0, 1, 0, 0, 0, 0, 0, 0, 0, 0, 0, 0, 0],\n",
    "               [0, 0, 0, 1, 0, 0, 0, 0, 0, 0, 0, 0, 1, 0, 0, 0, 0, 1, 1, 1, 0, 0, 0, 0],\n",
    "               [0, 0, 0, 1, 0, 0, 0, 0, 0, 0, 0, 0, 1, 0, 0, 0, 1, 1, 0, 1, 1, 0, 0, 0],\n",
    "               [0, 0, 0, 1, 0, 0, 0, 0, 0, 0, 0, 0, 1, 0, 0, 1, 1, 0, 0, 0, 1, 1, 0, 0],\n",
    "               [0, 0, 0, 1, 0, 0, 0, 0, 0, 0, 0, 0, 1, 0, 0, 1, 0, 0, 0, 0, 0, 1, 0, 0],\n",
    "               [0, 0, 0, 1, 0, 0, 0, 0, 0, 0, 0, 0, 1, 0, 0, 1, 0, 0, 0, 0, 0, 1, 0, 0],\n",
    "               [0, 0, 0, 1, 0, 0, 0, 0, 0, 0, 0, 0, 1, 0, 0, 1, 0, 0, 0, 0, 0, 1, 0, 0],\n",
    "               [0, 0, 0, 1, 0, 0, 0, 0, 0, 0, 0, 0, 1, 0, 0, 1, 0, 0, 0, 0, 0, 1, 0, 0],\n",
    "               [0, 0, 0, 1, 0, 0, 0, 0, 0, 0, 0, 0, 1, 0, 0, 1, 0, 0, 0, 0, 0, 1, 0, 0],\n",
    "               [0, 0, 0, 1, 0, 0, 0, 0, 0, 0, 0, 0, 1, 0, 0, 1, 0, 0, 0, 0, 0, 1, 0, 0],\n",
    "               [0, 0, 0, 1, 0, 0, 0, 0, 0, 0, 0, 0, 1, 0, 0, 1, 0, 0, 0, 0, 0, 1, 0, 0],\n",
    "               [0, 0, 0, 1, 0, 0, 0, 0, 0, 0, 0, 0, 1, 0, 0, 1, 0, 0, 0, 0, 0, 1, 0, 0],\n",
    "               [0, 0, 0, 1, 0, 0, 0, 0, 0, 0, 0, 0, 1, 0, 0, 1, 0, 0, 0, 0, 0, 1, 0, 0],\n",
    "               [0, 0, 0, 1, 0, 0, 0, 0, 0, 0, 0, 0, 1, 0, 0, 1, 0, 0, 0, 0, 0, 1, 0, 0],\n",
    "               [0, 0, 0, 1, 1, 0, 0, 0, 0, 0, 0, 0, 1, 0, 0, 1, 0, 0, 0, 0, 0, 1, 0, 0],\n",
    "               [0, 0, 0, 0, 1, 1, 0, 0, 0, 0, 0, 1, 1, 0, 0, 1, 0, 0, 0, 0, 0, 1, 0, 0],\n",
    "               [0, 0, 0, 0, 0, 1, 1, 1, 0, 1, 1, 1, 0, 0, 0, 1, 0, 0, 0, 0, 0, 1, 0, 0],\n",
    "               [0, 0, 0, 0, 0, 0, 0, 1, 1, 1, 0, 0, 0, 0, 0, 1, 0, 0, 0, 0, 0, 1, 0, 0],\n",
    "               [0, 0, 0, 0, 0, 0, 0, 0, 0, 0, 0, 0, 0, 0, 0, 1, 0, 0, 0, 0, 0, 1, 0, 0],\n",
    "               [0, 0, 0, 0, 0, 0, 0, 0, 0, 0, 0, 0, 0, 0, 0, 1, 0, 0, 0, 0, 0, 1, 0, 0],\n",
    "               [0, 0, 0, 0, 0, 0, 0, 0, 0, 0, 0, 0, 0, 0, 0, 1, 0, 0, 0, 0, 0, 1, 0, 0],\n",
    "               [0, 0, 0, 0, 0, 0, 0, 0, 0, 0, 0, 0, 0, 0, 0, 1, 0, 0, 0, 0, 0, 1, 0, 0]])"
   ]
  },
  {
   "cell_type": "code",
   "execution_count": 131,
   "metadata": {
    "collapsed": true
   },
   "outputs": [],
   "source": [
    "bina = np.array([0, 0, 0, 1, 0, 1, 1, 1, 1, 0, 1, 0, 0, 0, 0, 1, 1, 0, 1, 0, 0, 1, 0,\n",
    "       1, 0, 0, 1, 0, 0, 0, 0, 1, 0, 0, 1, 0, 0, 0, 0, 1, 1, 1, 0, 0, 0, 0,\n",
    "       1, 0, 0, 0, 1, 0, 0, 0, 1, 0, 0, 1, 0, 0, 0, 0, 1, 0, 1, 1, 0, 0, 0,\n",
    "       0, 1, 0, 1, 0, 0, 0, 0, 0, 0, 0, 1, 1, 0, 0, 0, 0, 1, 0, 0, 0, 0, 0,\n",
    "       0, 0, 0, 0, 1, 0, 0, 0, 0, 1, 1, 0, 1, 1, 0, 1, 1, 1, 0, 1, 0, 1, 1,\n",
    "       1, 1, 1, 0, 1, 1, 1, 1, 1, 0, 1, 1, 1, 0, 1, 1, 1, 0, 0, 0, 1, 0, 1,\n",
    "       0, 1, 0, 0, 0, 1, 1, 1, 0, 1, 0, 0, 0, 1, 1, 0, 0, 1, 0, 0, 0, 0, 1,\n",
    "       0, 0, 1, 0, 0, 0, 0, 1, 0, 1, 1, 0, 1, 0, 1, 1, 0, 0, 1, 1, 0, 0, 1,\n",
    "       0])\n",
    "best_random = Path(n, occ)\n",
    "best_random.setBina(bina)"
   ]
  },
  {
   "cell_type": "code",
   "execution_count": 132,
   "metadata": {
    "collapsed": true
   },
   "outputs": [],
   "source": [
    "bina = np.array([0, 0, 1, 1, 0, 1, 0, 1, 1, 0, 0, 1, 0, 1, 1, 1, 1, 0, 1, 1, 1, 1, 0,\n",
    "       0, 0, 0, 1, 1, 1, 1, 1, 0, 1, 0, 1, 1, 1, 1, 0, 1, 1, 1, 0, 0, 0, 0,\n",
    "       0, 1, 0, 0, 1, 0, 0, 1, 0, 1, 1, 1, 0, 0, 0, 0, 0, 1, 0, 1, 0, 0, 0,\n",
    "       0, 0, 1, 0, 0, 0, 0, 0, 0, 0, 0, 1, 1, 0, 1, 1, 0, 1, 1, 0, 1, 1, 0,\n",
    "       0, 0, 0, 1, 0, 0, 0, 0, 0, 1, 1, 0, 1, 1, 0, 0, 0, 1, 1, 1, 1, 1, 1,\n",
    "       1, 1, 1, 0, 0, 1, 1, 1, 0, 1, 0, 1, 0, 1, 1, 1, 1, 0, 0, 0, 1, 0, 1,\n",
    "       0, 1, 0, 0, 0, 1, 1, 1, 0, 1, 0, 0, 0, 1, 0, 0, 0, 1, 0, 0, 0, 0, 1,\n",
    "       0, 0, 1, 0, 0, 0, 0, 1, 0, 1, 1, 0, 1, 1, 0, 0, 0, 0, 1, 1, 0, 0, 1,\n",
    "       0])\n",
    "best_ga = Path(n, occ)\n",
    "best_ga.setBina(bina)"
   ]
  },
  {
   "cell_type": "code",
   "execution_count": 133,
   "metadata": {
    "collapsed": true
   },
   "outputs": [],
   "source": [
    "bina = np.array([0, \n",
    "       0, 0, 1, 0, 1, 1, 1, 1, \n",
    "       0, 1, 1, 0, 0, 1, 0, 0, \n",
    "       0, 1, 1, 0, 0, 0, 1, 0, \n",
    "       0, 1, 1, 1, 0, 1, 0, 0, \n",
    "       0, 1, 1, 0, 0, 0, 0, 1, \n",
    "       0, 1, 1, 0, 1, 0, 0, 1, \n",
    "       1, 0, 1, 0, 1, 0, 0, 0, \n",
    "       1, 0, 1, 0, 1, 0, 0, 0, \n",
    "       1, 0, 1, 0, 0, 0, 1, 0, \n",
    "       1, 1, 1, 0, 0, 1, 0, 0, \n",
    "       1, 0, 0, 1, 0, 1, 0, 1, \n",
    "       1, 1, 0, 0, 0, 1, 0, 1, \n",
    "       0, 0, 0, 0, 1, 1, 0, 0, \n",
    "       1, 1, 0, 1, 1, 0, 0, 0, \n",
    "       1, 1, 1, 0, 0, 0, 1, 0, \n",
    "       1, 1, 1, 0, 0, 0, 1, 0, \n",
    "       1, 1, 1, 0, 1, 0, 1, 0, \n",
    "       1, 0, 1, 1, 1, 1, 0, 0, \n",
    "       1, 0, 0, 1, 0, 1, 1, 1, \n",
    "       0, 1, 1, 0, 0, 0, 1, 1,\n",
    "       0, 1, 1, 0, 0, 0, 1, 1, \n",
    "       0, 0, 1, 1, 0, 0, 1, 0, \n",
    "       0, 1, 1, 0, 0, 0, 1, 0])\n",
    "best_astar = Path(n, occ)\n",
    "best_astar.setBina(bina)"
   ]
  },
  {
   "cell_type": "code",
   "execution_count": 134,
   "metadata": {},
   "outputs": [
    {
     "name": "stdout",
     "output_type": "stream",
     "text": [
      "Random best 74 GA best 73 A* best 69\n"
     ]
    },
    {
     "data": {
      "image/png": "[encoded data removed]",
      "text/plain": [
       "<matplotlib.figure.Figure at 0x20b2eb7a198>"
      ]
     },
     "metadata": {},
     "output_type": "display_data"
    }
   ],
   "source": [
    "best_random.plot('green')\n",
    "best_astar.plot('red')\n",
    "best_ga.plot('blue')\n",
    "\n",
    "print('Random best', best_random.n_cell, 'GA best', best_ga.n_cell, 'A* best', best_astar.n_cell)\n"
   ]
  },
  {
   "cell_type": "markdown",
   "metadata": {},
   "source": [
    "### Maze"
   ]
  },
  {
   "cell_type": "code",
   "execution_count": 135,
   "metadata": {
    "collapsed": true
   },
   "outputs": [],
   "source": [
    "occ =np.array([[0, 0, 0, 0, 0, 0, 0, 0, 0, 0, 0, 0, 0, 0, 0, 1, 0, 0, 0, 0, 0, 0, 0, 0],\n",
    "               [0, 0, 0, 0, 0, 0, 0, 0, 0, 0, 0, 0, 0, 0, 0, 1, 0, 0, 0, 0, 0, 0, 0, 0],\n",
    "               [0, 0, 1, 1, 1, 0, 0, 1, 1, 1, 1, 1, 1, 0, 0, 1, 1, 1, 0, 0, 1, 1, 0, 0],\n",
    "               [0, 0, 0, 0, 1, 0, 0, 0, 0, 1, 0, 0, 1, 0, 0, 0, 0, 0, 0, 0, 1, 0, 0, 0],\n",
    "               [0, 0, 0, 0, 1, 0, 0, 0, 0, 1, 0, 0, 1, 0, 0, 1, 1, 1, 1, 1, 1, 1, 1, 1],\n",
    "               [1, 1, 0, 0, 1, 0, 0, 1, 0, 0, 0, 0, 1, 0, 0, 1, 0, 0, 0, 0, 0, 0, 0, 0],\n",
    "               [0, 0, 0, 0, 1, 0, 0, 1, 0, 0, 0, 0, 1, 0, 0, 1, 0, 0, 0, 0, 0, 0, 0, 0],\n",
    "               [0, 0, 0, 0, 1, 1, 1, 1, 1, 1, 0, 0, 1, 0, 0, 1, 0, 0, 0, 1, 0, 0, 0, 0],\n",
    "               [0, 1, 0, 0, 0, 0, 0, 0, 0, 1, 0, 0, 1, 0, 0, 1, 0, 0, 0, 1, 0, 0, 1, 1],\n",
    "               [0, 1, 0, 0, 0, 0, 0, 0, 0, 1, 0, 0, 1, 1, 1, 1, 0, 0, 1, 1, 0, 0, 1, 0],\n",
    "               [0, 1, 1, 1, 1, 1, 1, 0, 0, 1, 0, 0, 1, 0, 0, 0, 0, 0, 1, 0, 0, 0, 1, 0],\n",
    "               [0, 1, 0, 0, 0, 0, 0, 0, 0, 1, 0, 0, 1, 0, 0, 0, 1, 1, 1, 0, 0, 0, 1, 0],\n",
    "               [1, 1, 0, 0, 0, 0, 0, 1, 1, 1, 0, 0, 0, 0, 0, 0, 0, 0, 1, 0, 0, 0, 1, 0],\n",
    "               [0, 0, 0, 0, 1, 0, 0, 1, 0, 0, 0, 0, 0, 0, 0, 0, 0, 0, 1, 0, 0, 0, 1, 0],\n",
    "               [0, 0, 0, 0, 1, 0, 0, 1, 0, 0, 0, 0, 1, 1, 0, 0, 1, 1, 1, 0, 0, 0, 1, 0],\n",
    "               [1, 1, 0, 0, 1, 0, 0, 1, 1, 1, 1, 1, 1, 0, 0, 0, 1, 0, 1, 0, 0, 1, 1, 1],\n",
    "               [0, 0, 0, 0, 1, 1, 1, 1, 0, 0, 0, 0, 1, 0, 0, 0, 1, 0, 1, 0, 0, 1, 0, 0],\n",
    "               [0, 0, 0, 0, 0, 0, 0, 0, 0, 0, 0, 0, 1, 1, 1, 1, 1, 0, 1, 0, 0, 1, 1, 1],\n",
    "               [0, 0, 0, 0, 0, 1, 0, 0, 0, 0, 0, 0, 0, 0, 0, 1, 0, 0, 0, 0, 0, 0, 0, 0],\n",
    "               [1, 1, 1, 1, 1, 1, 1, 1, 1, 1, 1, 0, 0, 0, 0, 1, 0, 0, 1, 1, 1, 0, 0, 0],\n",
    "               [0, 0, 0, 0, 0, 1, 0, 0, 0, 0, 0, 0, 0, 0, 0, 1, 0, 0, 1, 0, 1, 1, 0, 0],\n",
    "               [0, 0, 0, 0, 0, 1, 1, 1, 1, 0, 0, 1, 1, 1, 1, 1, 0, 0, 1, 1, 1, 0, 0, 0],\n",
    "               [0, 0, 0, 0, 0, 1, 0, 0, 0, 0, 0, 0, 0, 0, 0, 0, 0, 0, 0, 1, 0, 0, 0, 0],\n",
    "               [0, 0, 0, 0, 0, 1, 0, 0, 0, 0, 0, 0, 0, 0, 0, 0, 0, 0, 0, 0, 0, 0, 0, 0]])"
   ]
  },
  {
   "cell_type": "code",
   "execution_count": 136,
   "metadata": {
    "collapsed": true
   },
   "outputs": [],
   "source": [
    "bina = np.array([0, 1, 0, 1, 1, 0, 0, 0, 0, 1, 0, 1, 0, 0, 1, 0, 1, 1, 0, 1, 0, 1, 1,\n",
    "       1, 0, 1, 0, 1, 1, 0, 1, 0, 1, 0, 1, 0, 0, 1, 0, 1, 0, 0, 1, 0, 1, 0,\n",
    "       1, 0, 0, 0, 1, 1, 0, 1, 0, 0, 1, 0, 0, 1, 0, 0, 0, 1, 1, 1, 0, 1, 0,\n",
    "       0, 1, 0, 1, 0, 0, 1, 0, 0, 1, 0, 0, 0, 0, 1, 0, 0, 1, 0, 0, 1, 1, 0,\n",
    "       0, 1, 0, 1, 1, 0, 0, 0, 0, 0, 0, 1, 1, 1, 0, 0, 0, 0, 1, 0, 1, 1, 0,\n",
    "       0, 0, 0, 1, 1, 0, 0, 0, 0, 0, 0, 1, 0, 1, 1, 0, 0, 0, 0, 0, 1, 1, 1,\n",
    "       0, 0, 0, 0, 1, 0, 0, 0, 0, 1, 0, 0, 0, 0, 1, 0, 0, 1, 0, 1, 0, 1, 1,\n",
    "       0, 1, 1, 0, 0, 0, 1, 1, 1, 0, 0, 0, 1, 1, 0, 1, 0, 0, 1, 0, 0, 1, 0,\n",
    "       1])\n",
    "best_random = Path(n, occ)\n",
    "best_random.setBina(bina)"
   ]
  },
  {
   "cell_type": "code",
   "execution_count": 141,
   "metadata": {
    "collapsed": true
   },
   "outputs": [],
   "source": [
    "bina = np.array([1, 0, 1, 1, 1, 1, 1, 1, 1, 1, 0, 1, 1, 1, 1, 1, 0, 0, 1, 1, 1, 0, 0,\n",
    "       0, 0, 0, 1, 0, 0, 1, 0, 1, 1, 1, 0, 0, 0, 0, 0, 1, 1, 1, 0, 1, 0, 0,\n",
    "       1, 1, 1, 1, 0, 0, 1, 1, 1, 0, 0, 0, 1, 1, 1, 1, 0, 0, 1, 0, 0, 1, 0,\n",
    "       0, 1, 0, 0, 1, 0, 1, 0, 0, 0, 1, 0, 0, 0, 0, 0, 0, 0, 1, 1, 1, 1, 1,\n",
    "       0, 0, 1, 0, 0, 1, 1, 0, 1, 1, 1, 1, 0, 1, 0, 0, 0, 1, 1, 1, 1, 1, 0,\n",
    "       1, 0, 0, 0, 0, 1, 1, 0, 1, 1, 0, 1, 1, 1, 0, 0, 1, 0, 0, 1, 1, 1, 0,\n",
    "       1, 0, 0, 1, 0, 0, 0, 1, 0, 0, 1, 1, 1, 1, 1, 1, 0, 1, 0, 1, 0, 1, 1,\n",
    "       1, 1, 0, 0, 1, 0, 0, 0, 0, 1, 0, 0, 0, 0, 1, 0, 0, 0, 1, 0, 1, 1, 0,\n",
    "       0])\n",
    "best_ga = Path(n, occ)\n",
    "best_ga.setBina(bina)"
   ]
  },
  {
   "cell_type": "code",
   "execution_count": 138,
   "metadata": {
    "collapsed": true
   },
   "outputs": [],
   "source": [
    "bina = np.array([0, \n",
    "       1, 0, 1, 0, 1, 1, 1, 1, \n",
    "       1, 0, 1, 0, 0, 1, 0, 0, \n",
    "       1, 0, 1, 0, 0, 0, 1, 0, \n",
    "       0, 1, 1, 1, 0, 1, 0, 0, \n",
    "       0, 1, 1, 0, 0, 0, 0, 1, \n",
    "       0, 1, 1, 0, 1, 0, 0, 1, \n",
    "       0, 1, 1, 0, 1, 0, 0, 0, \n",
    "       0, 1, 1, 0, 1, 0, 0, 0, \n",
    "       0, 1, 1, 0, 0, 0, 1, 0, \n",
    "       0, 1, 1, 0, 0, 1, 0, 0, \n",
    "       0, 0, 1, 0, 0, 1, 0, 0, \n",
    "       0, 1, 0, 0, 0, 1, 0, 1, \n",
    "       1, 1, 0, 0, 1, 1, 0, 0, \n",
    "       1, 1, 0, 1, 1, 0, 0, 0, \n",
    "       1, 0, 0, 0, 0, 0, 1, 0, \n",
    "       1, 1, 1, 0, 0, 0, 1, 0, \n",
    "       1, 1, 1, 0, 1, 0, 1, 0, \n",
    "       1, 1, 1, 0, 1, 1, 0, 0, \n",
    "       1, 1, 0, 1, 0, 1, 1, 1, \n",
    "       0, 0, 1, 0, 1, 0, 1, 1,\n",
    "       0, 1, 1, 0, 0, 0, 1, 1, \n",
    "       0, 1, 1, 1, 0, 0, 1, 0, \n",
    "       0, 0, 1, 0, 0, 1, 0, 0])\n",
    "best_astar = Path(n, occ)\n",
    "best_astar.setBina(bina)"
   ]
  },
  {
   "cell_type": "code",
   "execution_count": 142,
   "metadata": {},
   "outputs": [
    {
     "name": "stdout",
     "output_type": "stream",
     "text": [
      "Random best 60 GA best 50 A* best 43\n"
     ]
    },
    {
     "data": {
      "image/png": "[encoded data removed]",
      "text/plain": [
       "<matplotlib.figure.Figure at 0x20b2e42b8d0>"
      ]
     },
     "metadata": {},
     "output_type": "display_data"
    }
   ],
   "source": [
    "best_random.plot('green')\n",
    "best_astar.plot('red')\n",
    "best_ga.plot('blue')\n",
    "\n",
    "print('Random best', best_random.n_cell, 'GA best', best_ga.n_cell, 'A* best', best_astar.n_cell)\n"
   ]
  }
 ],
 "metadata": {
  "kernelspec": {
   "display_name": "Python 3",
   "language": "python",
   "name": "python3"
  },
  "language_info": {
   "codemirror_mode": {
    "name": "ipython",
    "version": 3
   },
   "file_extension": ".py",
   "mimetype": "text/x-python",
   "name": "python",
   "nbconvert_exporter": "python",
   "pygments_lexer": "ipython3",
   "version": "3.6.3"
  }
 },
 "nbformat": 4,
 "nbformat_minor": 2
}
